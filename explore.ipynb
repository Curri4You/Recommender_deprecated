{
 "cells": [
  {
   "cell_type": "code",
   "execution_count": null,
   "metadata": {},
   "outputs": [],
   "source": [
    "import pandas as pd \n",
    "import numpy as np \n",
    "import re"
   ]
  },
  {
   "cell_type": "code",
   "execution_count": null,
   "metadata": {},
   "outputs": [],
   "source": [
    "import torch\n",
    "from kobert import get_pytorch_kobert_model\n",
    "\n",
    "\n",
    "input_ids = torch.LongTensor([[31, 51, 99], [15, 5, 0]])\n",
    "input_mask = torch.LongTensor([[1, 1, 1], [1, 1, 0]])\n",
    "token_type_ids = torch.LongTensor([[0, 0, 1], [0, 1, 0]])\n",
    "model, vocab  = get_pytorch_kobert_model()\n",
    "sequence_output, pooled_output = model(input_ids, input_mask, token_type_ids)\n",
    "pooled_output.shape\n",
    "torch.Size([2, 768])\n",
    "vocab\n",
    "Vocab(size=8002, unk=\"[UNK]\", reserved=\"['[MASK]', '[SEP]', '[CLS]']\")\n",
    "# Last Encoding Layer\n",
    "sequence_output[0]\n",
    "tensor([[-0.2461,  0.2428,  0.2590,  ..., -0.4861, -0.0731,  0.0756],\n",
    "        [-0.2478,  0.2420,  0.2552,  ..., -0.4877, -0.0727,  0.0754],\n",
    "        [-0.2472,  0.2420,  0.2561,  ..., -0.4874, -0.0733,  0.0765]],\n",
    "       grad_fn=<SelectBackward>)"
   ]
  },
  {
   "cell_type": "code",
   "execution_count": null,
   "metadata": {},
   "outputs": [],
   "source": [
    "course=pd.read_csv('/original_data/courseDB.txt')\n",
    "homo_list=pd.read_csv('/original_data/homo_listDB.txt')\n",
    "intersected_list=pd.read_csv('/original_data/intersected_listDB.txt')\n",
    "prev_list=pd.read_csv('/original_data/prev_listDB.txt')"
   ]
  },
  {
   "cell_type": "code",
   "execution_count": null,
   "metadata": {},
   "outputs": [],
   "source": [
    "from konlpy.tag import Kkma \n",
    "\n",
    "kkma=Kkma()\n",
    "list_of_tokens=course.iloc[:,3].apply(kkma.morphs)"
   ]
  }
 ],
 "metadata": {
  "kernelspec": {
   "display_name": "Python 3.9.6 64-bit",
   "language": "python",
   "name": "python3"
  },
  "language_info": {
   "name": "python",
   "version": "3.9.6"
  },
  "orig_nbformat": 4,
  "vscode": {
   "interpreter": {
    "hash": "b485adf93bff8ca269d5493edbedeaa1a759650bfde9cbea36fd7f7b559c92d8"
   }
  }
 },
 "nbformat": 4,
 "nbformat_minor": 2
}
