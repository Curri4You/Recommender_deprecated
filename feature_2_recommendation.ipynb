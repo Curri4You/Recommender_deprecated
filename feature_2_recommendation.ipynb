{
 "cells": [
  {
   "cell_type": "code",
   "execution_count": 1,
   "metadata": {},
   "outputs": [],
   "source": [
    "import numpy as np \n",
    "import pandas as pd\n",
    "import torch"
   ]
  },
  {
   "cell_type": "code",
   "execution_count": 2,
   "metadata": {},
   "outputs": [],
   "source": [
    "cv=torch.load('dataset/course_nm_tensor.pt')"
   ]
  },
  {
   "cell_type": "code",
   "execution_count": 3,
   "metadata": {},
   "outputs": [
    {
     "data": {
      "text/plain": [
       "array([[ 0.00144092, -0.01703043,  0.00412345, ...,  0.0865251 ,\n",
       "        -0.05929217,  0.00758869],\n",
       "       [-0.00358773, -0.01746405, -0.12736031, ...,  0.02512024,\n",
       "        -0.01919973,  0.01910394],\n",
       "       [-0.00345605, -0.03809951, -0.0692881 , ...,  0.03877716,\n",
       "        -0.03475577, -0.03682799],\n",
       "       [ 0.0022921 , -0.07450938, -0.00588197, ...,  0.00472871,\n",
       "        -0.03109727, -0.00817915]], dtype=float32)"
      ]
     },
     "execution_count": 3,
     "metadata": {},
     "output_type": "execute_result"
    }
   ],
   "source": [
    "cvnpy=cv.detach().numpy()\n",
    "cvnpy[:4]"
   ]
  },
  {
   "cell_type": "code",
   "execution_count": 7,
   "metadata": {},
   "outputs": [],
   "source": [
    "#group by whether it is 전공 \n",
    "#같은 전공 내에서 진행\n",
    "\n",
    "curridb=pd.read_csv('original_data/curriculumDB.txt')\n",
    "coursedb=pd.read_csv('original_data/courseDB.txt')\n",
    "ccdb=pd.read_csv('original_data/curri_courseDB.txt')"
   ]
  },
  {
   "cell_type": "code",
   "execution_count": 16,
   "metadata": {},
   "outputs": [
    {
     "data": {
      "text/html": [
       "<div>\n",
       "<style scoped>\n",
       "    .dataframe tbody tr th:only-of-type {\n",
       "        vertical-align: middle;\n",
       "    }\n",
       "\n",
       "    .dataframe tbody tr th {\n",
       "        vertical-align: top;\n",
       "    }\n",
       "\n",
       "    .dataframe thead th {\n",
       "        text-align: right;\n",
       "    }\n",
       "</style>\n",
       "<table border=\"1\" class=\"dataframe\">\n",
       "  <thead>\n",
       "    <tr style=\"text-align: right;\">\n",
       "      <th></th>\n",
       "      <th>curr_id</th>\n",
       "      <th>the_year</th>\n",
       "      <th>subject_name</th>\n",
       "      <th>major_division</th>\n",
       "      <th>elec_num</th>\n",
       "      <th>ge_info</th>\n",
       "    </tr>\n",
       "  </thead>\n",
       "  <tbody>\n",
       "    <tr>\n",
       "      <th>0</th>\n",
       "      <td>628b75c1920a8302ce7ea449535834a877720b79499426...</td>\n",
       "      <td>2019</td>\n",
       "      <td>건축도시시스템공학</td>\n",
       "      <td>1</td>\n",
       "      <td>138</td>\n",
       "      <td>10</td>\n",
       "    </tr>\n",
       "    <tr>\n",
       "      <th>1</th>\n",
       "      <td>e3e972226e56ed375c91a5f95e8c7f098e7bd3bfbac3e9...</td>\n",
       "      <td>2019</td>\n",
       "      <td>건축학</td>\n",
       "      <td>1</td>\n",
       "      <td>148</td>\n",
       "      <td>10</td>\n",
       "    </tr>\n",
       "    <tr>\n",
       "      <th>2</th>\n",
       "      <td>2ec8f0ea892df31db7f724bb6f5905e5a32a524ee7d33f...</td>\n",
       "      <td>2019</td>\n",
       "      <td>기후·에너지시스템공학</td>\n",
       "      <td>1</td>\n",
       "      <td>138</td>\n",
       "      <td>10</td>\n",
       "    </tr>\n",
       "    <tr>\n",
       "      <th>3</th>\n",
       "      <td>b4a6f11c5c2fdf083a2cc098db210bd7a91c1357a1164e...</td>\n",
       "      <td>2019</td>\n",
       "      <td>사이버보안</td>\n",
       "      <td>1</td>\n",
       "      <td>139</td>\n",
       "      <td>10</td>\n",
       "    </tr>\n",
       "    <tr>\n",
       "      <th>4</th>\n",
       "      <td>07902b1e387b5dcdd2ae8d9929576ac23aacd48c628d3a...</td>\n",
       "      <td>2019</td>\n",
       "      <td>식품공학</td>\n",
       "      <td>1</td>\n",
       "      <td>138</td>\n",
       "      <td>10</td>\n",
       "    </tr>\n",
       "  </tbody>\n",
       "</table>\n",
       "</div>"
      ],
      "text/plain": [
       "                                             curr_id  the_year  subject_name  \\\n",
       "0  628b75c1920a8302ce7ea449535834a877720b79499426...      2019     건축도시시스템공학   \n",
       "1  e3e972226e56ed375c91a5f95e8c7f098e7bd3bfbac3e9...      2019           건축학   \n",
       "2  2ec8f0ea892df31db7f724bb6f5905e5a32a524ee7d33f...      2019   기후·에너지시스템공학   \n",
       "3  b4a6f11c5c2fdf083a2cc098db210bd7a91c1357a1164e...      2019         사이버보안   \n",
       "4  07902b1e387b5dcdd2ae8d9929576ac23aacd48c628d3a...      2019          식품공학   \n",
       "\n",
       "   major_division  elec_num  ge_info  \n",
       "0               1       138       10  \n",
       "1               1       148       10  \n",
       "2               1       138       10  \n",
       "3               1       139       10  \n",
       "4               1       138       10  "
      ]
     },
     "execution_count": 16,
     "metadata": {},
     "output_type": "execute_result"
    }
   ],
   "source": [
    "curridb.head(5)"
   ]
  },
  {
   "cell_type": "code",
   "execution_count": 22,
   "metadata": {},
   "outputs": [
    {
     "data": {
      "text/plain": [
       "True"
      ]
     },
     "execution_count": 22,
     "metadata": {},
     "output_type": "execute_result"
    }
   ],
   "source": [
    "type(curridb.loc[0,'the_year'])\n",
    "curridb.loc[0,'the_year']==2019\n",
    "curridb.loc[3,'subject_name'].strip()=='사이버보안'\n",
    "#print(curridb.loc[3,'subject_name'])"
   ]
  },
  {
   "cell_type": "code",
   "execution_count": 23,
   "metadata": {},
   "outputs": [
    {
     "data": {
      "text/plain": [
       "3    b4a6f11c5c2fdf083a2cc098db210bd7a91c1357a1164e...\n",
       "Name: curr_id, dtype: object"
      ]
     },
     "execution_count": 23,
     "metadata": {},
     "output_type": "execute_result"
    }
   ],
   "source": [
    "#subject_name, the_year정보를 바탕으로 구한다\n",
    "subject_name='사이버보안'\n",
    "the_year=2019\n",
    "\n",
    "curr_id=curridb[(curridb['the_year']==the_year) & (curridb['subject_name'].apply(str.strip)==subject_name)]['curr_id']\n",
    "curr_id"
   ]
  },
  {
   "cell_type": "code",
   "execution_count": null,
   "metadata": {},
   "outputs": [],
   "source": [
    "#currid를 바탕으로 사용자의 전공과목을 구한다 \n",
    "#cold start \n",
    "#사용자의 전공과목과 전부 인접행렬을 만들고 \n",
    "#해당 과목 인접행렬에서 가장 높은 것 N개를 구함\n"
   ]
  }
 ],
 "metadata": {
  "kernelspec": {
   "display_name": "Python 3.9.6 64-bit",
   "language": "python",
   "name": "python3"
  },
  "language_info": {
   "codemirror_mode": {
    "name": "ipython",
    "version": 3
   },
   "file_extension": ".py",
   "mimetype": "text/x-python",
   "name": "python",
   "nbconvert_exporter": "python",
   "pygments_lexer": "ipython3",
   "version": "3.9.6"
  },
  "orig_nbformat": 4,
  "vscode": {
   "interpreter": {
    "hash": "b485adf93bff8ca269d5493edbedeaa1a759650bfde9cbea36fd7f7b559c92d8"
   }
  }
 },
 "nbformat": 4,
 "nbformat_minor": 2
}
